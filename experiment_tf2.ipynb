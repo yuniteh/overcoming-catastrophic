{
 "cells": [
  {
   "cell_type": "markdown",
   "metadata": {},
   "source": [
    "#### Train a single network for 3 MNIST tasks sequentially"
   ]
  },
  {
   "cell_type": "code",
   "execution_count": 1,
   "metadata": {
    "collapsed": true
   },
   "outputs": [],
   "source": [
    "# automatically reload edited modules\n",
    "%load_ext autoreload\n",
    "%autoreload 2"
   ]
  },
  {
   "cell_type": "code",
   "execution_count": 2,
   "metadata": {
    "collapsed": false
   },
   "outputs": [
    {
     "name": "stderr",
     "output_type": "stream",
     "text": [
      "Using TensorFlow backend.\n"
     ]
    }
   ],
   "source": [
    "import urllib3\n",
    "urllib3.disable_warnings(urllib3.exceptions.InsecureRequestWarning)\n",
    "\n",
    "# import tensorflow.compat.v1 as tf\n",
    "# tf.disable_v2_behavior()\n",
    "import tensorflow as tf\n",
    "import numpy as np\n",
    "from copy import deepcopy\n",
    "from keras.utils import to_categorical\n",
    "from sklearn.utils import shuffle\n",
    "physical_devices = tf.config.list_physical_devices('GPU') \n",
    "for device in physical_devices:\n",
    "    tf.config.experimental.set_memory_growth(device, True)"
   ]
  },
  {
   "cell_type": "code",
   "execution_count": 3,
   "metadata": {
    "collapsed": false
   },
   "outputs": [],
   "source": [
    "%matplotlib inline\n",
    "import matplotlib.pyplot as plt\n",
    "import matplotlib.image as mpimg\n",
    "from IPython import display"
   ]
  },
  {
   "cell_type": "code",
   "execution_count": 4,
   "metadata": {
    "collapsed": false
   },
   "outputs": [],
   "source": [
    "# import class Model\n",
    "from model_tf2 import Model\n",
    "from model_tf2 import get_train_ewc"
   ]
  },
  {
   "cell_type": "code",
   "execution_count": 5,
   "metadata": {},
   "outputs": [],
   "source": [
    "(x_train, y_train_lda), (x_test, y_test_lda) = tf.keras.datasets.mnist.load_data()\n",
    "x_train = x_train.reshape(x_train.shape[0],-1)\n",
    "y_train = to_categorical(y_train_lda)\n",
    "x_test = x_test.reshape(x_test.shape[0],-1)\n",
    "y_test = to_categorical(y_test_lda)\n",
    "x_train = x_train.astype(np.float32)/ 255\n",
    "x_test = x_test.astype(np.float32)/ 255\n",
    "\n",
    "trainmlp = tf.data.Dataset.from_tensor_slices((x_train, y_train, y_train)).shuffle(x_train.shape[0],reshuffle_each_iteration=True).batch(128)\n",
    "\n",
    "# return a new mnist dataset w/ pixels randomly permuted\n",
    "def permute_mnist(mnist):\n",
    "    perm_inds = list(range(mnist.shape[1]))\n",
    "    np.random.shuffle(perm_inds)\n",
    "    mnist2 = deepcopy(mnist)\n",
    "    mnist2 = np.transpose(np.array([mnist2[:,c] for c in perm_inds]))\n",
    "    return mnist2\n",
    "\n",
    "mnistb = permute_mnist(x_train)\n",
    "trainmlp2 = tf.data.Dataset.from_tensor_slices((mnistb, y_train, y_train)).shuffle(x_train.shape[0],reshuffle_each_iteration=True).batch(128)\n"
   ]
  },
  {
   "cell_type": "code",
   "execution_count": 6,
   "metadata": {
    "collapsed": false
   },
   "outputs": [],
   "source": [
    "# classification accuracy plotting\n",
    "def plot_test_acc(plot_handles):\n",
    "    plt.legend(handles=plot_handles, loc=\"center right\")\n",
    "    plt.xlabel(\"Iterations\")\n",
    "    plt.ylabel(\"Test Accuracy\")\n",
    "    plt.ylim(0,1)\n",
    "    display.display(plt.gcf())\n",
    "    display.clear_output(wait=True)\n",
    "    \n",
    "# train/compare vanilla sgd and ewc\n",
    "def train_task(model, num_iter, disp_freq, x_train, y_train, x_test, y_test, x, y_, lams=[0]):\n",
    "    for l in range(len(lams)):\n",
    "        # lams[l] sets weight on old task(s)\n",
    "        model.restore() # reassign optimal weights from previous training session\n",
    "        # if(lams[l] == 0):\n",
    "        #     model.set_vanilla_loss()\n",
    "        # else:\n",
    "        #     model.update_ewc_loss(lams[l])\n",
    "        # initialize test accuracy array for each task \n",
    "        test_accs = []\n",
    "        for task in range(len(x_test)):\n",
    "            test_accs.append(np.zeros(int(num_iter/disp_freq)))\n",
    "        train_ewc = get_train_ewc()\n",
    "        optimizer = tf.keras.optimizers.SGD(learning_rate=0.001)\n",
    "        train_loss = tf.keras.metrics.Mean(name='train_loss')\n",
    "        train_accuracy = tf.keras.metrics.CategoricalAccuracy(name='train_accuracy')\n",
    "        ds = tf.data.Dataset.from_tensor_slices((x_train, y_train)).shuffle(x_train.shape[0],reshuffle_each_iteration=True).batch(100)\n",
    "        # train on current task\n",
    "        start = 0\n",
    "        end = start+100\n",
    "        for iter in range(num_iter):\n",
    "            start = 0\n",
    "            end = start+100\n",
    "            # x_in = x_train[start:end,...]\n",
    "            # y_in = y_train[start:end,...]\n",
    "            for i in range(len(x_train)//500):\n",
    "                x_in = x_train[start:end,...]\n",
    "                y_in = y_train[start:end,...]\n",
    "                start +=100\n",
    "                end+=100\n",
    "            # # batch = trainset.train.next_batch(100)\n",
    "            # # model.train_step.run(feed_dict={x: batch[0], y_: batch[1]})\n",
    "            #     model.train_step.run(feed_dict={x: x_in, y_: y_in})\n",
    "            # for x_in, y_in in ds:\n",
    "                train_ewc(x_in, y_in, model, optimizer, train_loss, train_accuracy, lam=0)\n",
    "\n",
    "            if iter % disp_freq == 0:\n",
    "                plt.subplot(1, len(lams), l+1)\n",
    "                plots = []\n",
    "                colors = ['r', 'b', 'g']\n",
    "                for task in range(len(x_test)):\n",
    "                    # feed_dict={x: testsets[task].test.images, y_: testsets[task].test.labels}\n",
    "                    feed_dict={x: x_test[task], y_: y_test[task]}\n",
    "                    test_accs[task][int(iter/disp_freq)] = model.acc(x=x_test[task], y = y_test[task])\n",
    "                    # test_accs[task][int(iter/disp_freq)] = model.accuracy.eval(feed_dict=feed_dict)\n",
    "                    c = chr(ord('A') + task)\n",
    "                    plot_h, = plt.plot(range(1,iter+2,disp_freq), test_accs[task][:int(iter/disp_freq+1)], colors[task], label=\"task \" + c)\n",
    "                    plots.append(plot_h)\n",
    "                plot_test_acc(plots)\n",
    "                if l == 0: \n",
    "                    plt.title(\"vanilla sgd\")\n",
    "                else:\n",
    "                    plt.title(\"ewc\")\n",
    "                plt.gcf().set_size_inches(len(lams)*5, 3.5)"
   ]
  },
  {
   "cell_type": "code",
   "execution_count": 7,
   "metadata": {
    "collapsed": true
   },
   "outputs": [],
   "source": [
    "sess =tf.compat.v1.InteractiveSession()"
   ]
  },
  {
   "cell_type": "code",
   "execution_count": 8,
   "metadata": {
    "collapsed": true
   },
   "outputs": [],
   "source": [
    "# # define input and target placeholders\n",
    "# x = tf.placeholder(tf.float32, shape=[None, 784])\n",
    "# y_ = tf.placeholder(tf.float32, shape=[None, 10])"
   ]
  },
  {
   "cell_type": "code",
   "execution_count": 9,
   "metadata": {
    "collapsed": false
   },
   "outputs": [],
   "source": [
    "# instantiate new model\n",
    "model = Model() # simple 2-layer network"
   ]
  },
  {
   "cell_type": "code",
   "execution_count": 10,
   "metadata": {
    "collapsed": false
   },
   "outputs": [],
   "source": [
    "# initialize variables\n",
    "# sess.run(tf.global_variables_initializer())"
   ]
  },
  {
   "cell_type": "markdown",
   "metadata": {},
   "source": [
    "#### train on task A, test on task A"
   ]
  },
  {
   "cell_type": "code",
   "execution_count": 11,
   "metadata": {},
   "outputs": [
    {
     "data": {
      "image/png": "[encoded data removed]",
      "text/plain": [
       "<Figure size 360x252 with 1 Axes>"
      ]
     },
     "metadata": {
      "needs_background": "light"
     },
     "output_type": "display_data"
    }
   ],
   "source": [
    "train_task(model, 30, 1, x_train,y_train, [x_train],[y_train],2,2 , lams=[0])"
   ]
  },
  {
   "cell_type": "code",
   "execution_count": 12,
   "metadata": {
    "collapsed": false
   },
   "outputs": [
    {
     "data": {
      "image/png": "[encoded data removed]",
      "text/plain": [
       "<Figure size 432x288 with 1 Axes>"
      ]
     },
     "metadata": {
      "needs_background": "light"
     },
     "output_type": "display_data"
    }
   ],
   "source": [
    "# Fisher information\n",
    "model.compute_fisher(x_train, sess, num_samples=200, plot_diffs=True) # use validation set for Fisher computation"
   ]
  },
  {
   "cell_type": "code",
   "execution_count": 13,
   "metadata": {
    "collapsed": false
   },
   "outputs": [],
   "source": [
    "# F_row_mean = np.mean(model.F_accum[0], 1)\n",
    "# mnist_imshow(F_row_mean)\n",
    "# plt.title(\"W1 row-wise mean Fisher\");"
   ]
  },
  {
   "cell_type": "markdown",
   "metadata": {},
   "source": [
    "#### train on task B, test on tasks A and B"
   ]
  },
  {
   "cell_type": "code",
   "execution_count": 14,
   "metadata": {
    "collapsed": false
   },
   "outputs": [],
   "source": [
    "# permuting mnist for 2nd task\n",
    "mnist2 = permute_mnist(x_train)\n",
    "\n",
    "# plt.subplot(1,2,1)\n",
    "# mnist_imshow(mnist.train.images[5])\n",
    "# plt.title(\"original task image\")\n",
    "# plt.subplot(1,2,2)\n",
    "# mnist_imshow(mnist2.train.images[5])\n",
    "# plt.title(\"new task image\");"
   ]
  },
  {
   "cell_type": "code",
   "execution_count": 15,
   "metadata": {
    "collapsed": false
   },
   "outputs": [],
   "source": [
    "# save current optimal weights\n",
    "model.star()"
   ]
  },
  {
   "cell_type": "code",
   "execution_count": 16,
   "metadata": {
    "collapsed": false
   },
   "outputs": [
    {
     "data": {
      "image/png": "[encoded data removed]",
      "text/plain": [
       "<Figure size 360x252 with 1 Axes>"
      ]
     },
     "metadata": {
      "needs_background": "light"
     },
     "output_type": "display_data"
    }
   ],
   "source": [
    "# training 2nd task\n",
    "train_task(model, 10, 1, mnist2,y_train, [x_train, mnist2], [y_train,y_train],2, 2, lams=[0,15])"
   ]
  },
  {
   "cell_type": "code",
   "execution_count": 17,
   "metadata": {
    "collapsed": false
   },
   "outputs": [
    {
     "data": {
      "image/png": "[encoded data removed]",
      "text/plain": [
       "<Figure size 432x288 with 1 Axes>"
      ]
     },
     "metadata": {
      "needs_background": "light"
     },
     "output_type": "display_data"
    }
   ],
   "source": [
    "# Fisher information for 2nd task\n",
    "model.compute_fisher(mnist2, sess, num_samples=200, plot_diffs=True)"
   ]
  },
  {
   "cell_type": "code",
   "execution_count": 18,
   "metadata": {
    "collapsed": false
   },
   "outputs": [
    {
     "ename": "NameError",
     "evalue": "name 'mnist_imshow' is not defined",
     "output_type": "error",
     "traceback": [
      "\u001b[1;31m---------------------------------------------------------------------------\u001b[0m",
      "\u001b[1;31mNameError\u001b[0m                                 Traceback (most recent call last)",
      "\u001b[1;32m<ipython-input-18-1c23fe222254>\u001b[0m in \u001b[0;36m<module>\u001b[1;34m\u001b[0m\n\u001b[0;32m      1\u001b[0m \u001b[0mF_row_mean\u001b[0m \u001b[1;33m=\u001b[0m \u001b[0mnp\u001b[0m\u001b[1;33m.\u001b[0m\u001b[0mmean\u001b[0m\u001b[1;33m(\u001b[0m\u001b[0mmodel\u001b[0m\u001b[1;33m.\u001b[0m\u001b[0mF_accum\u001b[0m\u001b[1;33m[\u001b[0m\u001b[1;36m0\u001b[0m\u001b[1;33m]\u001b[0m\u001b[1;33m,\u001b[0m \u001b[1;36m1\u001b[0m\u001b[1;33m)\u001b[0m\u001b[1;33m\u001b[0m\u001b[1;33m\u001b[0m\u001b[0m\n\u001b[1;32m----> 2\u001b[1;33m \u001b[0mmnist_imshow\u001b[0m\u001b[1;33m(\u001b[0m\u001b[0mF_row_mean\u001b[0m\u001b[1;33m)\u001b[0m\u001b[1;33m\u001b[0m\u001b[1;33m\u001b[0m\u001b[0m\n\u001b[0m\u001b[0;32m      3\u001b[0m \u001b[0mplt\u001b[0m\u001b[1;33m.\u001b[0m\u001b[0mtitle\u001b[0m\u001b[1;33m(\u001b[0m\u001b[1;34m\"W1 row-wise mean Fisher\"\u001b[0m\u001b[1;33m)\u001b[0m\u001b[1;33m;\u001b[0m\u001b[1;33m\u001b[0m\u001b[1;33m\u001b[0m\u001b[0m\n",
      "\u001b[1;31mNameError\u001b[0m: name 'mnist_imshow' is not defined"
     ]
    }
   ],
   "source": [
    "F_row_mean = np.mean(model.F_accum[0], 1)\n",
    "mnist_imshow(F_row_mean)\n",
    "plt.title(\"W1 row-wise mean Fisher\");"
   ]
  },
  {
   "cell_type": "markdown",
   "metadata": {},
   "source": [
    "#### train on task C, test on tasks A, B, and C"
   ]
  },
  {
   "cell_type": "code",
   "execution_count": null,
   "metadata": {
    "collapsed": false
   },
   "outputs": [],
   "source": [
    "# permuting mnist for 3rd task\n",
    "mnist3 = permute_mnist(mnist)"
   ]
  },
  {
   "cell_type": "code",
   "execution_count": null,
   "metadata": {
    "collapsed": false
   },
   "outputs": [],
   "source": [
    "# save current optimal weights\n",
    "model.star()"
   ]
  },
  {
   "cell_type": "code",
   "execution_count": null,
   "metadata": {
    "collapsed": false
   },
   "outputs": [
    {
     "data": {
      "image/png": "[encoded data removed]",
      "text/plain": [
       "<matplotlib.figure.Figure at 0x7fa451457210>"
      ]
     },
     "metadata": {},
     "output_type": "display_data"
    }
   ],
   "source": [
    "# training 3rd task\n",
    "train_task(model, 800, 20, mnist3, [mnist, mnist2, mnist3], x, y_, lams=[0, 15])"
   ]
  }
 ],
 "metadata": {
  "anaconda-cloud": {},
  "interpreter": {
   "hash": "96e4d54467b05e62951c9fd7929782b99429e3b62c1a3b146d4f3dbf79f907e6"
  },
  "kernelspec": {
   "display_name": "Python [default]",
   "language": "python",
   "name": "python3"
  },
  "language_info": {
   "codemirror_mode": {
    "name": "ipython",
    "version": 3
   },
   "file_extension": ".py",
   "mimetype": "text/x-python",
   "name": "python",
   "nbconvert_exporter": "python",
   "pygments_lexer": "ipython3",
   "version": "3.7.9"
  }
 },
 "nbformat": 4,
 "nbformat_minor": 1
}
